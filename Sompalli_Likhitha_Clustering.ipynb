{
  "nbformat": 4,
  "nbformat_minor": 0,
  "metadata": {
    "colab": {
      "provenance": [],
      "authorship_tag": "ABX9TyO32z93DOpV+i7c3N0AFl+U",
      "include_colab_link": true
    },
    "kernelspec": {
      "name": "python3",
      "display_name": "Python 3"
    },
    "language_info": {
      "name": "python"
    }
  },
  "cells": [
    {
      "cell_type": "markdown",
      "metadata": {
        "id": "view-in-github",
        "colab_type": "text"
      },
      "source": [
        "<a href=\"https://colab.research.google.com/github/likithachinnibunny/Zeotap_DataScience_Intern_Tasks/blob/main/Sompalli_Likhitha_Clustering.ipynb\" target=\"_parent\"><img src=\"https://colab.research.google.com/assets/colab-badge.svg\" alt=\"Open In Colab\"/></a>"
      ]
    },
    {
      "cell_type": "code",
      "source": [
        "!pip install pandas\n",
        "!pip install scikit-learn\n",
        "import pandas as pd\n",
        "from sklearn.cluster import KMeans\n",
        "from sklearn.metrics import davies_bouldin_score\n",
        "from sklearn.decomposition import PCA\n",
        "import matplotlib.pyplot as plt\n",
        "from sklearn.preprocessing import StandardScaler\n",
        "\n",
        "customer_data = pd.read_csv('https://drive.google.com/uc?id=1bu_--mo79VdUG9oin4ybfFGRUSXAe-WE')\n",
        "\n",
        "cluster_data = customer_data.groupby('CustomerID').agg({\n",
        "    'Total Value': 'sum',\n",
        "    'Quantity': 'sum',\n",
        "    'Unit price': 'mean'\n",
        "}).reset_index()\n",
        "\n",
        "cluster_data = cluster_data.rename(columns={'Total Value': 'TotalValue', 'Unit price': 'Price'})\n",
        "\n",
        "scaler = StandardScaler()\n",
        "scaled_data = scaler.fit_transform(cluster_data[['TotalValue', 'Quantity', 'Price']]) # Select columns explicitly\n",
        "\n",
        "kmeans = KMeans(n_clusters=5, random_state=42)\n",
        "kmeans.fit(scaled_data)\n",
        "cluster_data['Cluster'] = kmeans.labels_\n",
        "\n",
        "db_index = davies_bouldin_score(scaled_data, kmeans.labels_)\n",
        "print(f'Davies-Bouldin Index: {db_index}')\n",
        "\n",
        "pca = PCA(n_components=2)\n",
        "reduced_data = pca.fit_transform(scaled_data)\n",
        "plt.scatter(reduced_data[:, 0], reduced_data[:, 1], c=cluster_data['Cluster'], cmap='viridis')\n",
        "plt.title('Customer Segmentation Clusters')\n",
        "plt.show()"
      ],
      "metadata": {
        "id": "E7Fb9AQqOwym"
      },
      "execution_count": null,
      "outputs": []
    }
  ]
}