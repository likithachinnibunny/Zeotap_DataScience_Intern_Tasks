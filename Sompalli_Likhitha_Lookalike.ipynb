{
  "nbformat": 4,
  "nbformat_minor": 0,
  "metadata": {
    "colab": {
      "provenance": [],
      "authorship_tag": "ABX9TyOgCaA/6CDan64cOhm11I4w",
      "include_colab_link": true
    },
    "kernelspec": {
      "name": "python3",
      "display_name": "Python 3"
    },
    "language_info": {
      "name": "python"
    }
  },
  "cells": [
    {
      "cell_type": "markdown",
      "metadata": {
        "id": "view-in-github",
        "colab_type": "text"
      },
      "source": [
        "<a href=\"https://colab.research.google.com/github/likithachinnibunny/Zeotap_DataScience_Intern_Tasks/blob/main/Sompalli_Likhitha_Lookalike.ipynb\" target=\"_parent\"><img src=\"https://colab.research.google.com/assets/colab-badge.svg\" alt=\"Open In Colab\"/></a>"
      ]
    },
    {
      "cell_type": "code",
      "source": [
        "import pandas as pd\n",
        "from sklearn.metrics.pairwise import cosine_similarity\n",
        "from sklearn.preprocessing import StandardScaler\n",
        "\n",
        "customers = pd.read_csv(\"https://drive.google.com/uc?id=1bu_--mo79VdUG9oin4ybfFGRUSXAe-WE\")\n",
        "products = pd.read_csv(\"https://drive.google.com/uc?id=1IKuDizVapw-hyktwfpoAoaGtHtTNHfd0\")\n",
        "transactions = pd.read_csv(\"https://drive.google.com/uc?id=1saEqdbBB-vuk2hxoAf4TzDEsykdKlzbF\")\n",
        "\n",
        "transactions['TransactionDate'] = pd.to_datetime(transactions['TransactionDate'])\n",
        "\n",
        "merged_data = transactions.merge(customers, on='CustomerID').merge(products, on='ProductID')\n",
        "\n",
        "customer_features = merged_data.groupby('CustomerID').agg({\n",
        "    'TotalValue': 'sum',\n",
        "    'Quantity': 'sum',\n",
        "    'Price': 'mean',\n",
        "    'Category': lambda x: x.mode()[0] if not x.empty else None\n",
        "}).reset_index()\n",
        "\n",
        "customer_features = pd.get_dummies(customer_features, columns=['Category'], dummy_na=False)\n",
        "\n",
        "scaler = StandardScaler()\n",
        "numeric_features = customer_features.drop(columns=['CustomerID'])\n",
        "scaled_features = scaler.fit_transform(numeric_features)\n",
        "\n",
        "similarity_matrix = cosine_similarity(scaled_features)\n",
        "\n",
        "similarity_df = pd.DataFrame(similarity_matrix, index=customer_features['CustomerID'], columns=customer_features['CustomerID'])\n",
        "\n",
        "lookalike_results = {}\n",
        "for cust_id in customer_features['CustomerID'][:20]:\n",
        "    similar_customers = similarity_df[cust_id].sort_values(ascending=False)[1:4]\n",
        "    lookalike_results[cust_id] = list(similar_customers.items())\n",
        "\n",
        "lookalike_df = pd.DataFrame([{\"CustomerID\": k, \"Recommendations\": v} for k, v in lookalike_results.items()])\n",
        "lookalike_df.to_csv(\"FirstName_LastName_Lookalike.csv\", index=False)\n",
        "\n",
        "print(\"Lookalike model results saved successfully!\")\n"
      ],
      "metadata": {
        "id": "jEK0YYm5LoFX"
      },
      "execution_count": null,
      "outputs": []
    }
  ]
}